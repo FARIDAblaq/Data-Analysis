{
 "cells": [
  {
   "cell_type": "code",
   "execution_count": 48,
   "id": "a2933094",
   "metadata": {},
   "outputs": [],
   "source": [
    "#importing all the libraries needed\n",
    "import numpy as ln\n",
    "import numpy as np \n",
    "#pip install matplotlib\n",
    "import matplotlib.pyplot as plt\n",
    "import pandas as pd\n",
    "import scipy.interpolate \n",
    "import csv"
   ]
  },
  {
   "cell_type": "markdown",
   "id": "03d0a2ae",
   "metadata": {},
   "source": [
    "# Question 1"
   ]
  },
  {
   "cell_type": "code",
   "execution_count": 12,
   "id": "4552597f",
   "metadata": {},
   "outputs": [
    {
     "name": "stdout",
     "output_type": "stream",
     "text": [
      "The piece of paper should be folded more than 23.076919954896795 to exceed the height of mount everest\n"
     ]
    }
   ],
   "source": [
    "thickness_in_mm = 1 #thickness of the paper as stated in the question\n",
    "height_of_mount_everest_in_m = 8848 #desired height in meters, as stated in the question \n",
    "\n",
    "#changing height of mount everest in m to mm = 8848 * 1000 = 8848000\n",
    "height_of_mount_everest_in_mm = 8848000\n",
    "\n",
    "number_of_folds = ln.log(height_of_mount_everest_in_mm)/ln.log(2) #formula for finding the number of folds\n",
    "\n",
    "message = 'The piece of paper should be folded more than {} to exceed the height of mount everest'\n",
    "print(message.format(number_of_folds))"
   ]
  },
  {
   "cell_type": "markdown",
   "id": "2396ad60",
   "metadata": {},
   "source": [
    "# Question 2"
   ]
  },
  {
   "cell_type": "code",
   "execution_count": 3,
   "id": "de370b82",
   "metadata": {},
   "outputs": [
    {
     "name": "stdout",
     "output_type": "stream",
     "text": [
      "It will take more than 6.931471805599452 seconds for the volume to decrease to less than half of its initial volume\n"
     ]
    }
   ],
   "source": [
    "a = 0.1 #value of a as given in the question\n",
    "\n",
    "#np.log gives you the value of ln()\n",
    "t = -(np.log(0.5)/(a)) #formula for finding the time it will take to decrease. After making the t subject from the initial equation, v(t) = V0e^-at\n",
    "message = 'It will take more than {} seconds for the volume to decrease to less than half of its initial volume'\n",
    "print(message.format(t)) \n",
    "      "
   ]
  },
  {
   "cell_type": "markdown",
   "id": "902f29af",
   "metadata": {},
   "source": [
    "# Question 3"
   ]
  },
  {
   "cell_type": "code",
   "execution_count": 54,
   "id": "71108ba2",
   "metadata": {},
   "outputs": [
    {
     "name": "stdout",
     "output_type": "stream",
     "text": [
      "You will have $105 after 1 years\n",
      "You will have $110 after 2 years\n",
      "You will have $116 after 3 years\n",
      "You will have $122 after 4 years\n",
      "You will have $128 after 5 years\n"
     ]
    }
   ],
   "source": [
    "principal_amount = 100 #principal amount as given in the question\n",
    "rate = 0.05  #rate of interest\n",
    "time = [1,2,3,4,5] #array of the years\n",
    "\n",
    "for i in time: #for every year in the time list\n",
    "    amount = principal_amount*(1+rate)**i #use this formula to find the amount earned\n",
    "    message = 'You will have ${} after {} years'  #print it in this format \n",
    "#after each year in the time array, you will have\n",
    "    print(message.format(round(amount), i)) #round the amounts to the nearest dollars and print them\n"
   ]
  },
  {
   "cell_type": "markdown",
   "id": "3cd7413e",
   "metadata": {},
   "source": [
    "# Question 4 "
   ]
  },
  {
   "cell_type": "code",
   "execution_count": 4,
   "id": "48b84d0a",
   "metadata": {
    "scrolled": true
   },
   "outputs": [
    {
     "name": "stdout",
     "output_type": "stream",
     "text": [
      "You will pay $1777 per month after 12 months\n",
      "You will pay $941 per month after 24 months\n",
      "You will pay $664 per month after 36 months\n"
     ]
    }
   ],
   "source": [
    "price_of_car = 20000 #price of car as stated in the question (loan amount)\n",
    "rate = 0.01  #interest rate of the loan amount\n",
    "time = [12,24,36] #time in which the instalment need to be paid \n",
    "\n",
    "for i in time: #for every value in the time list\n",
    "    amount_per_month = (price_of_car*(rate/(1-(1+rate)**-i))) #use this formula to calculate the amount to be paid per month \n",
    "    message = 'You will pay ${} per month after {} months' #print the result in this format \n",
    "    print(message.format(round(amount), i)) #round the amounts to the nearest dollars and print them\n"
   ]
  },
  {
   "cell_type": "markdown",
   "id": "beb6bc21",
   "metadata": {},
   "source": [
    "# Question 5"
   ]
  },
  {
   "cell_type": "code",
   "execution_count": 11,
   "id": "a20f6cc2",
   "metadata": {},
   "outputs": [
    {
     "data": {
      "image/png": "[encoded data removed]",
      "text/plain": [
       "<Figure size 432x288 with 1 Axes>"
      ]
     },
     "metadata": {
      "needs_background": "light"
     },
     "output_type": "display_data"
    }
   ],
   "source": [
    "x = [] #create an empty list, x\n",
    "for i in range (1,101): #iterate from 1 to 100\n",
    "    x.append(i) #append all the numbers in the x, list \n",
    "#print(x)\n",
    "y = [] #create an empty array, y\n",
    "sum = 0 #initialize a variable called sum, to help with the cumulative profits  \n",
    "for num in x: #for all the numbers in the x list \n",
    "    j = 1000*(1.01)**(num-1) #use the formula to calculate for individual j value (profit per day) with the respective num in the list \n",
    "    #print(round(j))\n",
    "    sum += j #find the cumulative sum of the j value \n",
    "    y.append(round(sum)) #add them into th y list after you round them\n",
    "plt.xlabel('Number of days') #name of the x axis\n",
    "plt.ylabel('Cumulated profit in $')  #name of the y axis\n",
    "plt.plot(x,y) #plot the graph\n",
    "plt.plot(70, 100676, marker='o') #mark this point with an o marker \n",
    "plt.annotate(\"Breakeven point\", (70, 100676)) #write a text at the point given\n",
    "plt.show()"
   ]
  },
  {
   "cell_type": "markdown",
   "id": "079fd83b",
   "metadata": {},
   "source": [
    "# Question 6"
   ]
  },
  {
   "cell_type": "code",
   "execution_count": 42,
   "id": "5555dd19",
   "metadata": {
    "scrolled": true
   },
   "outputs": [
    {
     "name": "stdout",
     "output_type": "stream",
     "text": [
      "              Cases   Death     Diff  Noofdays\n",
      "2014-03-22     49.0    29.0      2.0       1.0\n",
      "2014-03-23     67.5    44.0      1.5       2.0\n",
      "2014-03-24     86.0    59.0      1.0       3.0\n",
      "2014-03-25     86.0    60.0      1.0       4.0\n",
      "2014-03-26     86.0    62.0      1.0       5.0\n",
      "...             ...     ...      ...       ...\n",
      "2014-11-08  13894.4  5451.8      2.6     232.0\n",
      "2014-11-09  14068.0  5496.0      2.0     233.0\n",
      "2014-11-10  14225.5  5494.0      1.5     234.0\n",
      "2014-11-11  14383.0  5492.0      1.0     235.0\n",
      "2014-11-12  14413.0  5498.0 -41955.0     236.0\n",
      "\n",
      "[236 rows x 4 columns]\n",
      "The date for when the cases exceed 100 is 2014-03-27 00:00:00\n",
      "The date for when the cases exceed 500 is 2014-06-13 00:00:00\n",
      "The date for when the cases exceed 1000 is 2014-07-15 00:00:00\n",
      "The date for when the cases exceed 2000 is 2014-08-12 00:00:00\n",
      "The date for when the cases exceed 5000 is 2014-09-12 00:00:00\n",
      "The date for when the death exceed 100 is 2014-04-06 00:00:00\n",
      "The date for when the death exceed 500 is 2014-07-05 00:00:00\n",
      "The date for when the death exceed 1000 is 2014-08-09 00:00:00\n",
      "The date for when the death exceed 2000 is 2014-09-03 00:00:00\n",
      "The date for when the death exceed 5000 is 2014-10-24 00:00:00\n"
     ]
    },
    {
     "data": {
      "image/png": "[encoded data removed]",
      "text/plain": [
       "<Figure size 432x288 with 1 Axes>"
      ]
     },
     "metadata": {
      "needs_background": "light"
     },
     "output_type": "display_data"
    }
   ],
   "source": [
    "data = pd.read_excel(\"ebola_download.xls\") #importing and reading the ebola data \n",
    "data = data.set_index('Date') #setting the date column as the index \n",
    "dat = pd.date_range('2014-03-22','2014-11-12') #generating dates within the range given \n",
    "data = data.reindex(dat,fill_value=np.NAN) #filling all null values \n",
    "data=data.interpolate() #interpolating the data dataframe \n",
    "print(data)   #printing the data after interpolation \n",
    "y = data['Cases'] #renaming the cases column to y\n",
    "z = data['Death'] #renaming the death column to z\n",
    "plt.plot(dat,y,label='Death') #plot the death column on the graph\n",
    "plt.plot(dat,z,label='Cases')  #plot the cases column on the graph\n",
    "plt.legend() #show the meaning of the various colors in the graph\n",
    "\n",
    "#creating lists to store the variables for the respective death and cases above a given range \n",
    "points_above_100_z = []\n",
    "points_above_100_y = []\n",
    "\n",
    "points_above_500_z = []\n",
    "points_above_500_y = []\n",
    "\n",
    "points_above_1000_z = []\n",
    "points_above_1000_y = []\n",
    "\n",
    "points_above_2000_z = []\n",
    "points_above_2000_y = []\n",
    "\n",
    "points_above_5000_z = []\n",
    "points_above_5000_y = []\n",
    "\n",
    "\n",
    "#finding all the points above a cases range and plotting them on the graph\n",
    "count = 0\n",
    "for row in y: #loop through the cases column\n",
    "    count += 1 #keep a count\n",
    "    if( row > 100): #find the point where a case is greater than 100\n",
    "        points_above_100_y.append(row) #append it to the list \n",
    "        break\n",
    "    \n",
    "plt.plot(dat[count-1], points_above_100_y[0], marker = 'o' ) #print that point on the graph\n",
    "print(\"The date for when the cases exceed 100 is\", dat[count-1])\n",
    "# print(points_above_100_y[0])\n",
    "\n",
    "#from this point onward, repeat the previous steps to find the remaining point, case > 500, 1000, 2000, 5000\n",
    "count = 0\n",
    "for m in y:\n",
    "    count += 1    \n",
    "    if(m > 500):\n",
    "        points_above_500_y.append(m)\n",
    "        break\n",
    "plt.plot(dat[count-1], points_above_500_y[0], marker = 'o' ) \n",
    "print(\"The date for when the cases exceed 500 is\",dat[count-1])\n",
    "\n",
    "count = 0\n",
    "for p in y:\n",
    "    count += 1    \n",
    "    if(p > 1000):\n",
    "        points_above_1000_y.append(p)\n",
    "        break\n",
    "plt.plot(dat[count-1], points_above_1000_y[0], marker = 'o' ) \n",
    "print(\"The date for when the cases exceed 1000 is\",dat[count-1])\n",
    "\n",
    "count = 0\n",
    "for v in y:\n",
    "    count += 1    \n",
    "    if(v > 2000):\n",
    "        points_above_2000_y.append(v)\n",
    "        break\n",
    "plt.plot(dat[count-1], points_above_2000_y[0], marker = 'o' ) \n",
    "print(\"The date for when the cases exceed 2000 is\",dat[count-1])\n",
    "\n",
    "count = 0\n",
    "for q in y:\n",
    "    count += 1    \n",
    "    if(q > 5000):\n",
    "        points_above_5000_y.append(q)\n",
    "        break\n",
    "plt.plot(dat[count-1], points_above_5000_y[0], marker = 'o' ) \n",
    "print(\"The date for when the cases exceed 5000 is\",dat[count-1])\n",
    "\n",
    "\n",
    "#doing the same for death cases \n",
    "count = 0\n",
    "for row in z:\n",
    "    count += 1\n",
    "    if( row > 100):\n",
    "        points_above_100_z.append(row)\n",
    "        break\n",
    "    \n",
    "plt.plot(dat[count-1], points_above_100_z[0], marker = 'o' )\n",
    "print(\"The date for when the death exceed 100 is\", dat[count-1])\n",
    "# print(points_above_100_z[0])\n",
    "\n",
    "count = 0\n",
    "for m in z:\n",
    "    count += 1    \n",
    "    if(m > 500):\n",
    "        points_above_500_z.append(m)\n",
    "        break\n",
    "plt.plot(dat[count-1], points_above_500_z[0], marker = 'o' ) \n",
    "print(\"The date for when the death exceed 500 is\",dat[count-1])\n",
    "\n",
    "count = 0\n",
    "for p in z:\n",
    "    count += 1    \n",
    "    if(p > 1000):\n",
    "        points_above_1000_z.append(p)\n",
    "        break\n",
    "plt.plot(dat[count-1], points_above_1000_z[0], marker = 'o' ) \n",
    "print(\"The date for when the death exceed 1000 is\",dat[count-1])\n",
    "\n",
    "count = 0\n",
    "for v in z:\n",
    "    count += 1    \n",
    "    if(v > 2000):\n",
    "        points_above_2000_z.append(v)\n",
    "        break\n",
    "plt.plot(dat[count-1], points_above_2000_z[0], marker = 'o' ) \n",
    "print(\"The date for when the death exceed 2000 is\",dat[count-1])\n",
    "\n",
    "count = 0\n",
    "for q in z:\n",
    "    count += 1    \n",
    "    if(q > 5000):\n",
    "        points_above_5000_z.append(q)\n",
    "        break\n",
    "plt.plot(dat[count-1], points_above_5000_z[0], marker = 'o' ) \n",
    "print(\"The date for when the death exceed 5000 is\",dat[count-1])\n",
    "           \n",
    " #showing the final plot        \n",
    "plt.show()"
   ]
  },
  {
   "cell_type": "markdown",
   "id": "9024f4bd",
   "metadata": {},
   "source": [
    "# Question 7"
   ]
  },
  {
   "cell_type": "code",
   "execution_count": 46,
   "id": "03f16b89",
   "metadata": {},
   "outputs": [
    {
     "name": "stdout",
     "output_type": "stream",
     "text": [
      "The average growth of case per day is, 2.5065218916499976\n",
      "The average growth of death per day is , 2.3306080833679697\n"
     ]
    }
   ],
   "source": [
    "average_growth_rate_per_day_of_cases = data['Cases'].pct_change().mean()*100 #calculating the average growth rate of cases using pct_change\n",
    "print('The average growth of case per day is,', average_growth_rate_per_day_of_cases)\n",
    "\n",
    "#calculating the average growth rate of deaths using pct_change\n",
    "average_growth_rate_per_day_of_death = data['Death'].pct_change().mean()*100 \n",
    "print('The average growth of death per day is ,', average_growth_rate_per_day_of_death)"
   ]
  },
  {
   "cell_type": "markdown",
   "id": "0860f2a4",
   "metadata": {},
   "source": [
    "# Question 8"
   ]
  },
  {
   "cell_type": "code",
   "execution_count": 34,
   "id": "89d1f868",
   "metadata": {},
   "outputs": [
    {
     "name": "stdout",
     "output_type": "stream",
     "text": [
      "The average ratio is:  0.5650643845954079\n"
     ]
    },
    {
     "data": {
      "image/png": "[encoded data removed]",
      "text/plain": [
       "<Figure size 432x288 with 1 Axes>"
      ]
     },
     "metadata": {
      "needs_background": "light"
     },
     "output_type": "display_data"
    }
   ],
   "source": [
    "data = pd.read_excel(\"ebola_download.xls\") #importing and reading the ebola data \n",
    "noofdays = list(data['Noofdays']) #list of noofdays\n",
    "deaths = list(data['Death']) #list of death\n",
    "cases = list(data['Cases']) #list of cases\n",
    "plt.plot(deaths,cases) #plot death by cases\n",
    "plt.xlabel('Number of deaths') #label the x-axis\n",
    "plt.ylabel('Number of cases') #label the y-axis\n",
    "avg_ratio = (data['Death']/data['Cases']).mean() #calculate the mean\n",
    "print('The average ratio is: ',avg_ratio)"
   ]
  },
  {
   "cell_type": "markdown",
   "id": "ea212f1b",
   "metadata": {},
   "source": [
    "# Question 9"
   ]
  },
  {
   "cell_type": "code",
   "execution_count": 143,
   "id": "32ee0dee",
   "metadata": {},
   "outputs": [
    {
     "data": {
      "image/png": "[encoded data removed]",
      "text/plain": [
       "<Figure size 432x288 with 1 Axes>"
      ]
     },
     "metadata": {
      "needs_background": "light"
     },
     "output_type": "display_data"
    }
   ],
   "source": [
    "SPY = pd.read_csv(\"SPY.csv\") #read the spy csv file \n",
    "TLT = pd.read_csv('TLT.csv') #read the TLT csv file \n",
    "dates = SPY['Date'] #store the date column in the date variable \n",
    "SPY = SPY.set_index('Date') #set the date column as index \n",
    "dates = dates[1:len(SPY)] #get all dates excluding the first date in the column\n",
    "\n",
    "SPY['Adj Close'] =SPY['Adj Close'][1:len(SPY)]/SPY['Adj Close'][1]*100 #normalise the data by making the first data 100\n",
    "y= SPY['Adj Close'][1:len(SPY)] #name this section of data, y\n",
    "plt.plot(dates,y,label='SPY') #plot it on a graph \n",
    "\n",
    "TLT['Adj Close'] =TLT['Adj Close'][1:len(TLT)]/TLT['Adj Close'][1]*100 #redo the normalization\n",
    "z= TLT['Adj Close'][1:len(TLT)] #rename this section of data to z \n",
    "plt.plot(dates,z,label='TLT') #plot the dates and TLT adj close on a graph  \n",
    "plt.xlabel('Dates') #label x-axis, dates \n",
    "plt.ylabel('Adj Close') #label y-axis, adj close\n",
    "plt.legend() #show the meanings of your colors \n",
    "plt.show() "
   ]
  },
  {
   "cell_type": "markdown",
   "id": "dfe3c02b",
   "metadata": {},
   "source": [
    "# Question 10"
   ]
  },
  {
   "cell_type": "code",
   "execution_count": 194,
   "id": "c28e6f57",
   "metadata": {},
   "outputs": [
    {
     "name": "stdout",
     "output_type": "stream",
     "text": [
      "The daily returns for SPY is: [-1.63968677e-04 -2.89840014e-03  6.14180595e-03  2.18149013e-04\n",
      "  6.53826151e-04  2.72275363e-03 -1.33052359e-02  1.08977551e-02\n",
      "  5.39037605e-03 -1.29985805e-03 -4.22953908e-03  2.94090369e-03\n",
      "  6.51190777e-04 -8.19315461e-03 -2.13357844e-02 -4.91955311e-03\n",
      "  5.95501403e-03 -9.60519195e-03  1.06004037e-02 -5.85849394e-03\n",
      " -2.25052101e-02  7.00483940e-03 -1.25436123e-03  1.31870173e-02\n",
      "  1.23954333e-02  1.83686369e-03  1.09439141e-02  4.94736317e-04\n",
      "  5.16260875e-03  5.51858813e-03  1.19581567e-03 -6.62177280e-03\n",
      "  5.90095840e-03 -1.14051313e-03  5.54664125e-03 -3.78659662e-04\n",
      "  5.39872273e-05  5.24760561e-03  2.52930668e-03 -7.03181861e-03\n",
      "  1.40553251e-02  9.06354008e-04  2.29021212e-03  4.25400985e-04\n",
      " -5.31245452e-04 -4.94266156e-03  2.66990282e-04 -1.12132601e-02\n",
      " -2.80779845e-03  9.04352823e-03  7.13790889e-03 -5.32894783e-03\n",
      "  5.83954150e-03 -3.87838200e-03 -4.13557074e-03  4.74580100e-03\n",
      " -7.19240107e-03 -2.10810881e-03  4.93010936e-03  8.19432042e-03\n",
      "  6.63055931e-03  3.34679103e-03 -1.32395661e-03 -1.18218112e-02\n",
      " -1.10517238e-02  4.12320224e-03  1.07505232e-02 -2.10058619e-02\n",
      " -9.00824560e-03  7.87839698e-03  6.88728840e-03  1.04775730e-02\n",
      "  1.39737114e-03  3.48718750e-03  4.54434388e-03 -2.34182931e-03\n",
      "  2.02711069e-03 -8.19878933e-03  3.16722597e-03  4.65524066e-03\n",
      "  2.98298365e-03  1.05995370e-04 -1.43380732e-03  1.91449224e-03\n",
      " -8.70431539e-03  5.88980099e-03 -1.06487823e-03  1.49247338e-03\n",
      "  9.73557027e-03  8.95890014e-04 -4.73779927e-03 -8.78061550e-03\n",
      "  3.46858132e-03  3.66954478e-03 -6.30496880e-03  8.42436156e-03\n",
      "  2.43201727e-03  4.00884043e-03  6.14640214e-03 -7.31040342e-04\n",
      "  5.17305493e-03  1.61140618e-03  1.14176062e-03 -5.18489585e-04\n",
      "  2.02276625e-03  6.52224284e-03  4.78278362e-03  1.02354819e-03\n",
      "  1.02240036e-04 -3.47637757e-03 -7.07978133e-03  3.04812432e-03\n",
      "  8.24587729e-04  2.77937839e-03  7.33959296e-03  1.12093359e-03\n",
      "  2.03047186e-03 -3.06323530e-04 -6.02395773e-03  4.51927222e-03\n",
      " -7.15527513e-04  1.94420197e-03 -5.10672652e-04  6.69365153e-03\n",
      "  1.01471368e-03  4.91836674e-03 -3.48144391e-03 -6.43003245e-03\n",
      "  4.48407938e-03 -3.95711614e-03  1.37542087e-03  5.03519004e-03\n",
      " -1.87236495e-03  3.70117463e-03 -1.13660525e-02  1.02192781e-02\n",
      " -1.87114736e-03  4.35806338e-03  2.21968956e-03  5.04018159e-05\n",
      " -4.68133170e-03  4.04392824e-04 -4.29739488e-03  1.52420514e-04\n",
      " -1.97481904e-02 -3.05531977e-03  7.22033597e-03 -9.69598284e-03\n",
      "  3.12406139e-04 -5.41484950e-03  1.15690019e-02  2.89814740e-03\n",
      " -1.39363243e-03  6.76930884e-03  4.72157697e-03 -2.04223908e-04\n",
      "  8.37937454e-03  5.21880021e-03  2.67178169e-03  2.91561139e-03\n",
      " -1.55385538e-03  5.07041560e-03  6.49619958e-04 -3.99477220e-04\n",
      " -5.49290828e-04  2.84799431e-03 -4.98317433e-04 -5.48212689e-04\n",
      " -1.44623109e-03  4.49509524e-03 -2.58585695e-03 -6.33095016e-03\n",
      "  3.76256236e-03  1.14951895e-03 -5.84113141e-03 -7.53054814e-04\n",
      "  7.53843148e-03  1.34640422e-03  5.33007988e-03 -9.01134843e-04\n",
      " -7.72277593e-03 -5.72428395e-03  7.82768930e-03 -1.61352551e-02\n",
      "  7.94538788e-03 -1.81928330e-03 -2.63228101e-03 -1.35517576e-02\n",
      "  1.54103067e-04  1.10094678e-02 -1.17030584e-03 -1.54365313e-02\n",
      "  1.74892245e-02 -1.98328560e-02 -1.14144697e-02 -1.64269721e-02\n",
      "  1.54747271e-03 -6.76623069e-03 -8.58224497e-04  1.18111397e-02\n",
      "  9.70961553e-03  1.98108505e-02 -7.11090830e-03  1.16248604e-02\n",
      "  7.69493793e-03 -1.37413925e-03  1.14700255e-02 -1.51217247e-03\n",
      "  6.41068333e-03  1.14354419e-02  5.45527412e-04 -3.46938221e-03\n",
      "  6.31605146e-03  4.00321258e-03  9.35539736e-04  3.14731681e-03\n",
      "  9.80241758e-04 -1.07698451e-03  1.12744005e-03  2.44804163e-04\n",
      "  6.36485332e-04  5.77398755e-03 -1.60561004e-03  1.75430149e-03\n",
      "  5.35039407e-03  2.80663727e-03 -7.23884872e-04  2.55902224e-03\n",
      " -2.11900424e-03 -6.94999359e-03  6.46406088e-03  3.86318682e-03\n",
      " -1.10646542e-03  1.63711180e-03 -6.68233898e-03 -6.77762508e-04\n",
      " -1.60313585e-02  5.06988254e-03 -1.61613075e-02 -6.86958641e-03\n",
      " -8.01947697e-03  1.96047746e-02  2.47286122e-02  4.25513174e-03\n",
      "  4.59974811e-03  1.34965998e-03  9.64246746e-05  3.22453542e-03\n",
      "  1.34346171e-03 -5.36614762e-03 -9.92317412e-03 -5.34932607e-04\n",
      " -1.80597698e-02 -9.41909848e-03  1.24614424e-02  1.77449571e-02\n",
      " -8.01378171e-03 -7.83332305e-03 -2.81260864e-03 -6.03716683e-03\n",
      " -9.16074806e-03  1.31144019e-02  2.13258899e-03  5.04783549e-03\n",
      "  1.48711985e-02 -5.48296165e-03  2.34174437e-03 -1.31902070e-02\n",
      " -1.28246241e-02  9.24357910e-03 -1.25749844e-02  1.23841213e-02\n",
      "  1.44610196e-02 -3.80775658e-03  1.00952365e-02 -2.76534208e-03\n",
      " -4.47578369e-03  1.06532044e-02  5.80079018e-04  9.61707538e-03\n",
      "  4.11651507e-03  1.57277730e-03  9.54235507e-05 -7.14076449e-04\n",
      "  6.00075334e-03 -1.42084405e-04  2.84071727e-03 -8.49865611e-04\n",
      " -1.18106322e-03 -3.40638256e-03  6.31345552e-03 -4.10390017e-03\n",
      " -4.21545246e-03  1.09397388e-03 -1.40642553e-02  4.14418193e-03\n",
      " -1.62218093e-02 -2.34163014e-03  1.27139956e-02 -6.13247551e-03\n",
      "  1.33606709e-02 -2.97232933e-03  1.20214145e-02 -4.56156152e-03\n",
      "  8.82700290e-03 -1.94876584e-03 -5.61896624e-03 -1.46537741e-02\n",
      " -2.38160427e-03  2.28987785e-03  1.21997475e-02 -8.73940426e-03\n",
      " -3.53623850e-03  3.59760309e-03  6.73275261e-03 -2.64601450e-03\n",
      "  3.37699719e-03  4.42344279e-03  5.45736645e-03 -4.52314643e-03\n",
      "  1.91295751e-03  4.48717810e-03 -2.84988536e-04 -1.15036362e-02\n",
      "  9.13696127e-03 -1.19127024e-03  4.91357472e-03  2.51673671e-03\n",
      "  2.32028780e-03 -4.15770879e-03  3.17856897e-03 -4.11434877e-03\n",
      " -1.00205571e-02  1.08411812e-02  2.84799177e-03 -1.14521728e-02\n",
      " -4.11689176e-03  3.98969972e-03  1.31660433e-02 -4.77284377e-03\n",
      " -2.99126841e-03  1.90535574e-04  1.04276309e-02  1.08379607e-03\n",
      "  3.10689150e-03 -3.28612967e-04 -7.04094895e-04  2.91252984e-03\n",
      " -2.38875510e-03 -1.07516293e-02  9.49204740e-03 -1.12826092e-03\n",
      " -6.21286913e-03  2.03656413e-03 -9.92730460e-04  2.64974611e-03\n",
      " -8.44663963e-03 -1.71309533e-03 -6.14993126e-03 -1.43824345e-04\n",
      "  1.19933818e-02  3.22329443e-03 -7.65490403e-03 -4.28555396e-03\n",
      "  5.45188684e-03  1.61709464e-03  1.03993242e-02 -4.43934428e-03\n",
      "  5.12342288e-03  7.07563014e-04 -7.26259144e-03 -3.04048995e-03\n",
      " -1.90626423e-04 -2.09702223e-02  2.09319162e-03  8.01572658e-03\n",
      " -9.15918937e-04 -2.84601010e-03  6.28884293e-03 -1.67772567e-02\n",
      "  1.80907024e-03  1.25917055e-02  1.10372397e-02  4.33767004e-03\n",
      " -3.32100888e-04  8.02426747e-03  8.47895568e-04  5.17729241e-04\n",
      " -3.95110043e-03 -1.79465784e-03 -5.63021518e-03 -1.03719768e-02\n",
      " -5.81735068e-03  1.22833259e-02  6.87891442e-03  2.37138244e-04\n",
      " -1.51777041e-03 -3.37319882e-03 -1.95391466e-03  3.29504241e-03\n",
      " -8.18768239e-03 -1.91970336e-03  1.25993187e-02 -9.02326681e-03\n",
      "  1.19819584e-03 -1.24442339e-03  3.64197865e-03  5.58703600e-03\n",
      " -2.89683236e-03 -7.90532832e-03 -2.08815333e-02 -3.01021919e-02\n",
      " -4.21069716e-02 -1.17678024e-02  3.83941245e-02  2.47348181e-02\n",
      "  5.02320548e-05 -8.07914974e-03]\n",
      "The minimum daily return for SPY is: -4.2106971626892475\n",
      "The maximum daily return for SPY is: 3.8394124544050445\n",
      "The average daily return for SPY is: 0.02861222418255795\n",
      "\n",
      "\n",
      "For TLT EFT\n",
      "The daily returns for TLT:  [ 0.00000000e+00  4.20893796e-03  2.53434150e-03 -2.72255315e-03\n",
      "  5.84937019e-03  1.19206230e-02  4.98030364e-03 -4.57450510e-03\n",
      " -1.05335064e-03  6.70928423e-03  4.18864772e-03  7.58250070e-04\n",
      " -2.46310469e-03  1.41504427e-02  6.46114988e-03 -6.97764955e-03\n",
      "  2.43531638e-03  8.22549000e-03 -2.87392280e-03  6.69393254e-03\n",
      "  1.21846337e-02 -1.06113538e-02 -9.24531130e-03 -4.29243100e-03\n",
      "  8.43441659e-04  2.80932991e-03 -5.78988332e-03 -5.16570696e-03\n",
      "  5.66490285e-03  5.63301525e-04  2.25196033e-03 -4.21284462e-03\n",
      " -2.44455600e-03  5.27796044e-03 -2.53132033e-03  8.92851925e-03\n",
      "  5.30994992e-03  5.46676658e-03  5.53060365e-04  6.67481368e-03\n",
      " -1.50411528e-02  2.14176249e-03 -9.84921429e-03 -6.28780293e-03\n",
      "  1.41643823e-03  2.64060287e-03  6.95999834e-03  1.34501482e-02\n",
      "  1.84265677e-04 -7.46367499e-03  3.62101011e-03 -7.77082315e-03\n",
      " -1.77164577e-03  1.08346426e-02  7.11413998e-03 -3.76123258e-03\n",
      "  7.82741922e-03  5.02564235e-03 -5.63649014e-03 -2.46883067e-03\n",
      " -8.54633754e-03 -5.74698065e-03  4.38136594e-03  6.68333041e-03\n",
      "  5.99311868e-03  2.38309873e-03 -4.93828854e-03  9.28059437e-03\n",
      "  8.10320822e-03 -2.61941111e-03  6.24780834e-03  1.25990047e-03\n",
      " -1.09638649e-02 -8.18042951e-04  3.36483041e-03  5.70970351e-03\n",
      "  1.89304527e-03  1.43891197e-03 -4.85027915e-03 -1.35422627e-03\n",
      "  4.15808348e-03  1.07279308e-02  6.15959253e-03 -6.03310618e-03\n",
      "  4.01706937e-03 -3.55669146e-03 -4.28245453e-03 -3.22583521e-03\n",
      " -4.04510026e-03  8.66488237e-03  1.08278984e-02  7.96669283e-03\n",
      " -2.81012337e-03 -7.39818928e-03  2.21819604e-03 -6.10912209e-03\n",
      " -1.42484617e-03  5.35225429e-03  5.85647570e-03  1.23498658e-02\n",
      " -5.31571291e-03 -4.37805771e-04 -7.43372519e-03 -1.23046765e-02\n",
      " -2.69513049e-04  4.48294505e-04  0.00000000e+00 -1.43405233e-03\n",
      " -3.67922666e-03  1.80141482e-03  8.90107746e-03 -5.34486897e-04\n",
      "  2.49658700e-03 -7.91593996e-03  7.71017270e-03 -1.28106867e-02\n",
      "  7.57017783e-03 -3.13093382e-03  1.01392004e-02  2.57611771e-03\n",
      "  4.78398335e-03 -1.49911526e-03  2.47247089e-03 -8.37236381e-03\n",
      " -1.06873725e-02 -3.60083435e-03  7.31813335e-03  1.12119131e-02\n",
      "  7.98090334e-04  2.65329933e-04  6.38018748e-03 -4.31368080e-03\n",
      " -2.03483560e-03  5.31679462e-03  1.26035481e-02 -3.22013232e-03\n",
      "  4.97718920e-03  2.08549218e-03 -1.30091199e-03 -7.46626072e-03\n",
      "  1.18089045e-02 -1.38354274e-03  3.63605157e-03 -1.38873485e-02\n",
      " -2.97447197e-03  7.74093520e-03 -2.61853632e-03  3.23821490e-03\n",
      "  6.10909185e-04  9.32819794e-03 -2.15898197e-03 -8.68144283e-05\n",
      " -6.49253626e-03  6.53496475e-03  8.05099054e-03  1.09073703e-02\n",
      " -9.93979030e-03 -3.08872536e-03 -1.63594151e-03  5.60402721e-03\n",
      "  5.57296088e-03  3.75129889e-03 -3.22772216e-03  8.52118680e-03\n",
      "  5.23891019e-03  6.72769724e-04 -1.72508885e-02  5.56850882e-03\n",
      " -1.21825258e-02 -1.89754759e-03  4.31896843e-04 -7.77245372e-04\n",
      " -6.31002021e-03 -3.30563912e-03 -1.04727433e-02  1.49946954e-03\n",
      " -4.05091841e-03 -2.56463905e-03  3.19168578e-03  1.27252622e-02\n",
      "  1.22157001e-03  6.18785281e-03 -5.54374273e-03  1.18458814e-02\n",
      " -1.46330378e-03  8.01729785e-03 -5.64433166e-03  1.93912845e-02\n",
      " -8.71205188e-03  4.26641282e-03  5.94446335e-04  1.35008767e-02\n",
      "  2.51253808e-04 -4.35535544e-03  9.92669590e-03  6.08105886e-03\n",
      "  6.54074528e-03  7.89634590e-03 -6.36550460e-03 -5.58558275e-03\n",
      "  3.63419659e-03 -7.98268449e-03  1.07862105e-03 -8.86712389e-03\n",
      "  1.00280972e-03  1.83793128e-03 -6.25277466e-03  2.26494789e-03\n",
      "  8.37189766e-04 -2.59301001e-03  2.29175874e-07  3.11060343e-03\n",
      " -1.42528485e-03 -6.46175128e-03  1.14877711e-02 -9.18590208e-03\n",
      "  6.74078736e-04 -8.42495056e-04  2.36075345e-03  4.87755615e-03\n",
      " -2.51056588e-03  2.76893913e-03 -6.35928439e-03  5.22097420e-03\n",
      "  6.03101016e-03  8.32578466e-04  8.31955872e-03  2.72301869e-03\n",
      "  7.89915385e-03 -5.83409540e-03 -9.71204329e-03  3.90637421e-03\n",
      "  8.36148609e-03 -5.82899220e-03  1.22220097e-02  5.14006517e-03\n",
      "  7.30515042e-03  4.10955536e-03  1.35621607e-02 -2.05834723e-03\n",
      "  1.23770016e-02 -9.01277902e-03 -1.77936683e-02  1.34461712e-02\n",
      "  1.35082388e-03 -1.98350284e-02  5.44254657e-03  3.71146750e-03\n",
      "  7.47522654e-03  2.71309275e-03  1.90960550e-03  1.11176437e-02\n",
      "  1.57088687e-02  1.80171728e-02 -1.97504566e-03 -1.32429564e-02\n",
      "  1.09525855e-02  5.72211402e-03  0.00000000e+00  7.58644105e-03\n",
      "  1.57347033e-02 -1.27480140e-02  1.32886903e-02 -1.15594872e-02\n",
      " -3.59777591e-03  1.39178909e-02 -3.04235991e-03  1.56362209e-03\n",
      "  1.63477049e-02 -6.58014473e-03  1.77374806e-02 -3.77502126e-03\n",
      " -2.11667753e-02  1.70893598e-03 -1.09793195e-02 -1.77017817e-02\n",
      " -1.60366013e-03 -7.95368535e-03  1.85027451e-03 -3.30919476e-03\n",
      " -1.02688573e-02 -1.50555564e-02  5.94020867e-03 -6.61353116e-03\n",
      "  2.93266131e-03  1.14585361e-02  1.31258683e-02  4.31858280e-03\n",
      " -1.36679225e-02  8.40817237e-03 -1.86267302e-02 -3.62575277e-03\n",
      "  3.16202928e-04 -1.26498826e-03 -2.20920994e-02  9.23083600e-03\n",
      "  1.31579965e-02  7.28503062e-03 -7.07380006e-04 -3.06836794e-03\n",
      "  9.62742536e-03  8.28507171e-03  1.93026554e-02 -5.09537118e-03\n",
      "  5.27413990e-03 -1.21659344e-03  9.66890990e-03 -8.44483924e-03\n",
      " -1.55893932e-02  1.24368619e-02 -4.95956158e-03  2.14726034e-03\n",
      "  1.31347132e-02 -1.05957480e-02 -5.58384140e-03  8.38431375e-03\n",
      "  3.05574921e-04 -1.29644004e-02  1.46795978e-03  1.38861356e-03\n",
      "  7.08783169e-03 -8.41132290e-04 -4.97674117e-03  1.14646161e-02\n",
      " -8.82451725e-03 -4.52812726e-03 -1.52663295e-02  4.30651486e-03\n",
      "  6.23689515e-03  0.00000000e+00 -1.37908601e-02 -1.22558820e-02\n",
      "  1.75011323e-03 -1.34612902e-02 -9.43585723e-03 -1.38377628e-03\n",
      " -1.71209697e-02  1.34372925e-02  2.70157443e-03 -2.43249312e-02\n",
      "  2.59357666e-03 -8.01056206e-03  2.69092590e-03  2.00508858e-02\n",
      " -1.67771648e-02 -8.86699663e-03  1.68787095e-03  1.39859546e-02\n",
      "  4.15580043e-04  1.71097293e-02  2.28640336e-03 -2.44424952e-03\n",
      "  2.20514678e-03 -1.07473246e-02 -1.39523443e-02 -1.60745157e-02\n",
      "  1.30190313e-02 -1.21804519e-02 -1.10512473e-03 -7.91713716e-03\n",
      " -8.75175760e-03  2.10345974e-02  0.00000000e+00  1.61103015e-03\n",
      "  7.87209002e-03 -7.72640269e-03 -4.90877579e-03  1.28432424e-02\n",
      " -2.04064316e-02 -6.00062394e-03  8.62434747e-03 -3.50633308e-03\n",
      " -1.12402090e-02  2.64689043e-02 -6.93284362e-03 -1.34979883e-02\n",
      "  3.28661468e-03  1.85341890e-02  9.39469132e-03  8.63694304e-03\n",
      " -1.97026055e-02 -1.58584135e-02 -3.10172118e-03  3.28439481e-03\n",
      "  1.05970135e-02  6.90573908e-03  5.16459490e-03 -4.21167224e-03\n",
      "  5.41388887e-03  6.22564131e-03  1.24580355e-02  2.47773910e-03\n",
      "  5.35454512e-03 -7.29293279e-03 -3.71424884e-03  7.70521439e-03\n",
      "  7.39939997e-03  1.05261565e-02 -7.93191914e-03 -7.50539968e-03\n",
      "  8.87738712e-03  1.31182197e-02 -1.23853222e-02  1.58793614e-02\n",
      " -5.45055672e-03 -3.22394721e-03  2.34471074e-03  4.51731456e-03\n",
      " -7.86991612e-03  9.87566174e-03  1.00988380e-02  3.01557712e-03\n",
      " -3.16522759e-04 -1.60647435e-02 -1.93029472e-02  5.73221882e-04\n",
      "  2.95085379e-03 -7.68223681e-03]\n",
      "The minimum daily return for TLT is: -2.4324931167024166\n",
      "The maximum daily return for TLT is: 2.6468904269034477\n",
      "The average daily return for TLT is: 0.05537842887416518\n"
     ]
    }
   ],
   "source": [
    "\n",
    "#calculating the average, min and maximum daily returns\n",
    "daily_returns = [] #daily returns will keep track of all the daily returns values \n",
    "for i in range(2,len(SPY)):\n",
    "    daily_returns.append(SPY['Adj Close'][i]/SPY['Adj Close'][i-1]-1) #append each  daily returns value to the daily returns list \n",
    "daily_returns_arr = np.array(daily_returns) #convert the daily returns list to an array \n",
    "print('The daily returns for SPY is:',daily_returns_arr)    \n",
    "\n",
    "min_SPY=daily_returns_arr.min()*100 #find the min daily returns \n",
    "print('The minimum daily return for SPY is:',min_SPY)\n",
    "\n",
    "max_SPY=daily_returns_arr.max()*100 #find the max daily returns \n",
    "print('The maximum daily return for SPY is:',max_SPY)\n",
    "\n",
    "avg_SPY=daily_returns_arr.mean()*100 #find the avg daily returns \n",
    "print('The average daily return for SPY is:',avg_SPY)\n",
    "\n",
    "#for TLT EFT\n",
    "print('\\n')\n",
    "print('For TLT EFT')\n",
    "daily_returns_TLT = []\n",
    "for i in range(2,len(TLT)):\n",
    "    daily_returns_TLT.append(TLT['Adj Close'][i]/TLT['Adj Close'][i-1]-1) #appending TLT data daily returns to its list  \n",
    "daily_returns_TLT_arr = np.array(daily_returns_TLT) #converting the list to an array \n",
    "print(\"The daily returns for TLT: \",daily_returns_TLT_arr)    \n",
    "\n",
    "min_TLT=daily_returns_TLT_arr.min()*100 #find the min daily returns\n",
    "print('The minimum daily return for TLT is:',min_TLT)\n",
    "\n",
    "max_TLT=daily_returns_TLT_arr.max()*100 #find the max daily returns \n",
    "print('The maximum daily return for TLT is:',max_TLT)\n",
    "\n",
    "avg_TLT=daily_returns_TLT_arr.mean()*100 #find the avg daily returns \n",
    "print('The average daily return for TLT is:',avg_TLT)\n"
   ]
  }
 ],
 "metadata": {
  "kernelspec": {
   "display_name": "Python 3 (ipykernel)",
   "language": "python",
   "name": "python3"
  },
  "language_info": {
   "codemirror_mode": {
    "name": "ipython",
    "version": 3
   },
   "file_extension": ".py",
   "mimetype": "text/x-python",
   "name": "python",
   "nbconvert_exporter": "python",
   "pygments_lexer": "ipython3",
   "version": "3.9.12"
  }
 },
 "nbformat": 4,
 "nbformat_minor": 5
}
